{
 "cells": [
  {
   "cell_type": "code",
   "execution_count": 7,
   "metadata": {},
   "outputs": [
    {
     "name": "stdout",
     "output_type": "stream",
     "text": [
      "14414\n"
     ]
    }
   ],
   "source": [
    "from tensorflow.keras.preprocessing.image import ImageDataGenerator\n",
    "from tensorflow.keras.preprocessing.image import ImageDataGenerator, array_to_img, img_to_array, load_img\n",
    "\n",
    "import os\n",
    "train_data2 = ImageDataGenerator(rescale=1. / 255.,\n",
    "                                     rotation_range=30,\n",
    "                                     width_shift_range=0.2,\n",
    "                                     height_shift_range=0.2,\n",
    "                                     zoom_range=0.3,\n",
    "                                     shear_range=0.1,\n",
    "                                     brightness_range=(0.1, 1.5),\n",
    "                                     horizontal_flip=True,\n",
    "                                     vertical_flip=True)\n",
    "train_dir = \"imageAugmentation/\"\n",
    "list3 = [\"caries\"]\n",
    "for i in range(len(list3)):\n",
    "    nnn1 = 0\n",
    "    nnn2 = 0\n",
    "    # c = 150\n",
    "    list4 = os.listdir(train_dir + list3[i])    # 각 한자목록 안에 있는 이미지 목록\n",
    "    #print(list4)\n",
    "    print(len(list4))\n",
    "    if 14415 <= len(list4):\n",
    "        continue\n",
    "    n3 = 14415 - len(list4)   # 36\n",
    "    n1 = n3 // len(list4)   # 몫 0\n",
    "    n2 = n3 % len(list4)   # 나머지 36\n",
    "    q1 = n1+1   # 몫+1 1\n",
    "    q2 = len(list4) - n2    # 총개수 - 나머지 264-36\n",
    "\n",
    "    list4.sort()\n",
    "    nnn2 = n2 * q1  # 나머지 * 몫+1 36*1\n",
    "    nnn3 = q2 * n1  # (총개수 - 나머지) * 몫\n",
    "\n",
    "   \n",
    "    for im in range(len(list4)):\n",
    "        s = list4[im].split('.')\n",
    "        if im < n2:\n",
    "            if s[1] == 'jpg':\n",
    "                img = load_img(train_dir + list3[i] + '/' + list4[im])\n",
    "                x = img_to_array(img)\n",
    "                x = x.reshape((1,) + x.shape)\n",
    "                j = 0\n",
    "                for batch in train_data2.flow(x, batch_size=3, save_to_dir=train_dir + list3[i] + '/', save_prefix=s[0],\n",
    "                                              save_format='jpg'):\n",
    "                    j += 1\n",
    "                    nnn1 += 1\n",
    "                    if j >= q1:\n",
    "                        break\n",
    "\n",
    "        else:\n",
    "            q1 = n1\n",
    "            if q1 == 0:\n",
    "                break\n",
    "            if s[1] == 'jpg':\n",
    "                img = load_img(train_dir + list3[i] + '/' + list4[im])\n",
    "                x = img_to_array(img)\n",
    "                x = x.reshape((1,) + x.shape)\n",
    "                j = 0\n",
    "                for batch in train_data2.flow(x, batch_size=3, save_to_dir=train_dir + list3[i] + '/', save_prefix=s[0],\n",
    "                                              save_format='jpg'):\n",
    "                    j += 1\n",
    "                    nnn1 += 1\n",
    "                    if j >= q1:\n",
    "                        break\n"
   ]
  },
  {
   "cell_type": "code",
   "execution_count": null,
   "metadata": {},
   "outputs": [],
   "source": []
  }
 ],
 "metadata": {
  "kernelspec": {
   "display_name": "Python 3 (ipykernel)",
   "language": "python",
   "name": "python3"
  },
  "language_info": {
   "codemirror_mode": {
    "name": "ipython",
    "version": 3
   },
   "file_extension": ".py",
   "mimetype": "text/x-python",
   "name": "python",
   "nbconvert_exporter": "python",
   "pygments_lexer": "ipython3",
   "version": "3.9.12"
  }
 },
 "nbformat": 4,
 "nbformat_minor": 4
}
